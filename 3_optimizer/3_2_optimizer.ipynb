{
  "nbformat": 4,
  "nbformat_minor": 0,
  "metadata": {
    "colab": {
      "name": "3_2_optimizer.ipynb",
      "provenance": [],
      "collapsed_sections": []
    },
    "kernelspec": {
      "name": "python3",
      "display_name": "Python 3"
    }
  },
  "cells": [
    {
      "cell_type": "code",
      "metadata": {
        "id": "nk8e8Pmoz6ah",
        "colab_type": "code",
        "colab": {}
      },
      "source": [
        "import torch\n",
        "import torch.optim as optim\n",
        "import torch.nn as nn\n",
        "import torch.nn.functional as F"
      ],
      "execution_count": 0,
      "outputs": []
    },
    {
      "cell_type": "code",
      "metadata": {
        "id": "0EwZw6CD0_aj",
        "colab_type": "code",
        "colab": {
          "base_uri": "https://localhost:8080/",
          "height": 201
        },
        "outputId": "3717c75f-3b7e-4c2b-d15d-fa84365a5a04"
      },
      "source": [
        "w1 = torch.randn(2, 2)\n",
        "w1.requires_grad = True\n",
        "\n",
        "w2 = torch.randn(2, 2)\n",
        "w2.requires_grad = True\n",
        "\n",
        "w3 = torch.randn(2, 2)\n",
        "w3.requires_grad = True\n",
        "\n",
        "# 一个参数组\n",
        "optimizer_1 = optim.SGD([w1, w3], lr=0.1)\n",
        "print('len(optimizer.param_groups): ', len(optimizer_1.param_groups))\n",
        "print(optimizer_1.param_groups, '\\n')\n",
        "\n",
        "# 两个参数组\n",
        "optimizer_2 = optim.SGD([{'params': w1},\n",
        "                          {'params': w2, 'lr': 0.001}],lr = 0.1)\n",
        "print('len(optimizer.param_groups): ', len(optimizer_2.param_groups))\n",
        "print(optimizer_2.param_groups)"
      ],
      "execution_count": 3,
      "outputs": [
        {
          "output_type": "stream",
          "text": [
            "len(optimizer.param_groups):  1\n",
            "[{'params': [tensor([[-1.1039,  0.1478],\n",
            "        [-0.7350,  0.6612]], requires_grad=True), tensor([[-0.0999,  0.0065],\n",
            "        [ 0.2860, -0.5484]], requires_grad=True)], 'lr': 0.1, 'momentum': 0, 'dampening': 0, 'weight_decay': 0, 'nesterov': False}] \n",
            "\n",
            "len(optimizer.param_groups):  2\n",
            "[{'params': [tensor([[-1.1039,  0.1478],\n",
            "        [-0.7350,  0.6612]], requires_grad=True)], 'lr': 0.1, 'momentum': 0, 'dampening': 0, 'weight_decay': 0, 'nesterov': False}, {'params': [tensor([[ 0.9080, -0.8723],\n",
            "        [ 0.1146, -0.0018]], requires_grad=True)], 'lr': 0.001, 'momentum': 0, 'dampening': 0, 'weight_decay': 0, 'nesterov': False}]\n"
          ],
          "name": "stdout"
        }
      ]
    },
    {
      "cell_type": "code",
      "metadata": {
        "id": "effOnEuO2yNt",
        "colab_type": "code",
        "colab": {
          "base_uri": "https://localhost:8080/",
          "height": 145
        },
        "outputId": "e80f2772-5ceb-4f6f-8c2d-9b013fdff09c"
      },
      "source": [
        "w1 = torch.randn(2, 2)\n",
        "w1.requires_grad = True\n",
        "\n",
        "w2 = torch.randn(2, 2)\n",
        "w2.requires_grad = True\n",
        "\n",
        "optimizer = optim.SGD([w1, w2], lr=0.001, momentum=0.9)\n",
        "\n",
        "optimizer.param_groups[0]['params'][0].grad = torch.randn(2, 2)\n",
        "\n",
        "print('参数w1的梯度：')\n",
        "print(optimizer.param_groups[0]['params'][0].grad, '\\n')  # 参数组，第一个参数(w1)的梯度\n",
        "\n",
        "optimizer.zero_grad()\n",
        "print('执行zero_grad()之后，参数w1的梯度：')\n",
        "print(optimizer.param_groups[0]['params'][0].grad)  # 参数组，第一个参数(w1)的梯度\n"
      ],
      "execution_count": 4,
      "outputs": [
        {
          "output_type": "stream",
          "text": [
            "参数w1的梯度：\n",
            "tensor([[-1.1560,  0.8170],\n",
            "        [ 0.2633,  0.2294]]) \n",
            "\n",
            "执行zero_grad()之后，参数w1的梯度：\n",
            "tensor([[0., 0.],\n",
            "        [0., 0.]])\n"
          ],
          "name": "stdout"
        }
      ]
    },
    {
      "cell_type": "code",
      "metadata": {
        "id": "pHa8Kx6D3zLQ",
        "colab_type": "code",
        "colab": {
          "base_uri": "https://localhost:8080/",
          "height": 126
        },
        "outputId": "3860baab-6737-497e-d5fb-aa8279358f34"
      },
      "source": [
        "# ----------------------------------- state_dict\n",
        "class Net(nn.Module):\n",
        "    def __init__(self):\n",
        "        super(Net, self).__init__()\n",
        "        self.conv1 = nn.Conv2d(3 , 1, 3)\n",
        "        self.pool = nn.MaxPool2d(2, 2)\n",
        "        self.fc1 = nn.Linear(1 * 3 * 3, 2)\n",
        "\n",
        "    def forward(self, x):\n",
        "        x = self.pool(F.relu(self.conv1(x)))\n",
        "        x = x.view(-1, 1 * 3 * 3)\n",
        "        x = F.relu(self.fc1(x))\n",
        "        return x\n",
        "\n",
        "\n",
        "net = Net()\n",
        "\n",
        "# 获取网络当前参数\n",
        "net_state_dict = net.state_dict()\n",
        "\n",
        "print('net_state_dict类型：', type(net_state_dict))\n",
        "print('net_state_dict管理的参数: ', net_state_dict.keys())\n",
        "for key, value in net_state_dict.items():\n",
        "    print('参数名: ', key, '\\t大小: ',  value.shape)"
      ],
      "execution_count": 8,
      "outputs": [
        {
          "output_type": "stream",
          "text": [
            "net_state_dict类型： <class 'collections.OrderedDict'>\n",
            "net_state_dict管理的参数:  odict_keys(['conv1.weight', 'conv1.bias', 'fc1.weight', 'fc1.bias'])\n",
            "参数名:  conv1.weight \t大小:  torch.Size([1, 3, 3, 3])\n",
            "参数名:  conv1.bias \t大小:  torch.Size([1])\n",
            "参数名:  fc1.weight \t大小:  torch.Size([2, 9])\n",
            "参数名:  fc1.bias \t大小:  torch.Size([2])\n"
          ],
          "name": "stdout"
        }
      ]
    },
    {
      "cell_type": "code",
      "metadata": {
        "id": "iHeoiSd26nPn",
        "colab_type": "code",
        "colab": {
          "base_uri": "https://localhost:8080/",
          "height": 274
        },
        "outputId": "1acfe157-879b-4493-9a03-5e72ae466b75"
      },
      "source": [
        "w1 = torch.randn(2, 2)\n",
        "w1.requires_grad = True\n",
        "\n",
        "w2 = torch.randn(2, 2)\n",
        "w2.requires_grad = True\n",
        "\n",
        "w3 = torch.randn(2, 2)\n",
        "w3.requires_grad = True\n",
        "\n",
        "# 一个参数组\n",
        "optimizer_1 = optim.SGD([w1, w2], lr=0.1)\n",
        "print('当前参数组个数: ', len(optimizer_1.param_groups))\n",
        "print(optimizer_1.param_groups, '\\n')\n",
        "\n",
        "# 增加一个参数组\n",
        "print('增加一组参数 w3\\n')\n",
        "optimizer_1.add_param_group({'params': w3, 'lr': 0.001, 'momentum': 0.8})\n",
        "\n",
        "print('当前参数组个数: ', len(optimizer_1.param_groups))\n",
        "print(optimizer_1.param_groups, '\\n')"
      ],
      "execution_count": 9,
      "outputs": [
        {
          "output_type": "stream",
          "text": [
            "当前参数组个数:  1\n",
            "[{'params': [tensor([[-0.3283,  1.2743],\n",
            "        [ 0.1456,  0.5133]], requires_grad=True), tensor([[-0.1404,  0.0085],\n",
            "        [ 1.0374,  0.7065]], requires_grad=True)], 'lr': 0.1, 'momentum': 0, 'dampening': 0, 'weight_decay': 0, 'nesterov': False}] \n",
            "\n",
            "增加一组参数 w3\n",
            "\n",
            "当前参数组个数:  2\n",
            "[{'params': [tensor([[-0.3283,  1.2743],\n",
            "        [ 0.1456,  0.5133]], requires_grad=True), tensor([[-0.1404,  0.0085],\n",
            "        [ 1.0374,  0.7065]], requires_grad=True)], 'lr': 0.1, 'momentum': 0, 'dampening': 0, 'weight_decay': 0, 'nesterov': False}, {'params': [tensor([[-0.3938, -0.1759],\n",
            "        [-0.6844, -0.5078]], requires_grad=True)], 'lr': 0.001, 'momentum': 0.8, 'dampening': 0, 'weight_decay': 0, 'nesterov': False}] \n",
            "\n"
          ],
          "name": "stdout"
        }
      ]
    }
  ]
}