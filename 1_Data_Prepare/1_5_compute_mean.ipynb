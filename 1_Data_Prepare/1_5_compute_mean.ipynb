{
  "nbformat": 4,
  "nbformat_minor": 0,
  "metadata": {
    "colab": {
      "name": "1_5_compute_mean.ipynb",
      "provenance": [],
      "collapsed_sections": []
    },
    "kernelspec": {
      "name": "python3",
      "display_name": "Python 3"
    },
    "accelerator": "GPU"
  },
  "cells": [
    {
      "cell_type": "code",
      "metadata": {
        "colab_type": "code",
        "id": "5Z7zntLKSzrK",
        "colab": {}
      },
      "source": [
        "import numpy as np\n",
        "import cv2\n",
        "import random\n",
        "import os"
      ],
      "execution_count": 0,
      "outputs": []
    },
    {
      "cell_type": "code",
      "metadata": {
        "id": "zQ7JXOIYS0N_",
        "colab_type": "code",
        "colab": {}
      },
      "source": [
        "pwd = pwd ='/content/drive/My Drive/python/PyTorch_Tutorial/'\n",
        "train_txt_path = os.path.join(pwd, '..','..','Data','train.txt')\n",
        "CNum = 30 # 挑选多少图片进行计算\n",
        "\n",
        "img_h, img_w = 32, 32\n",
        "imgs = np.zeros([img_w, img_h, 3, 1])\n",
        "means ,std = [], []"
      ],
      "execution_count": 0,
      "outputs": []
    },
    {
      "cell_type": "code",
      "metadata": {
        "id": "ebe0wOIbTf7w",
        "colab_type": "code",
        "colab": {
          "base_uri": "https://localhost:8080/",
          "height": 598
        },
        "outputId": "15e13d79-2b2f-47ee-b2fd-fe1223c082fc"
      },
      "source": [
        "with open (train_txt_path, 'r') as f:\n",
        "  lines = f.readlines()\n",
        "  random.shuffle(lines)\n",
        "\n",
        "  for i in range(CNum):\n",
        "    img_path = lines[i].rstrip().split('*')[0]\n",
        "    # print(img_path)\n",
        "\n",
        "    img = cv2.imread(img_path)\n",
        "    img = cv2.resize(img, (img_h, img_w))\n",
        "\n",
        "    img = img[:, :, :, np.newaxis]\n",
        "    imgs = np.concatenate((imgs, img),axis = 3) # 数组拼接 CNum\n",
        "    print(i)\n",
        "\n",
        "imgs = imgs.astype(np.float32)/255.\n",
        "\n",
        "# 在cv2中 图片格式为 (h,w,c) bgr\n",
        "for i in range(3):\n",
        "  pixels = imgs[:,:,i,:].ravel() # 拉成一行\n",
        "  means.append(np.mean(pixels))\n",
        "  std.append(np.std(pixels))\n",
        "\n",
        "means.reverse() # bgr --> rgb 反向列表中元素\n",
        "std.reverse()\n",
        "\n",
        "print('normMean = {}'.format(means))\n",
        "print('normStd = {}'.format(std))\n",
        "print('transforms.Normalize(normMean ={},normStd = {})'.format(means, std))\n"
      ],
      "execution_count": 7,
      "outputs": [
        {
          "output_type": "stream",
          "text": [
            "0\n",
            "1\n",
            "2\n",
            "3\n",
            "4\n",
            "5\n",
            "6\n",
            "7\n",
            "8\n",
            "9\n",
            "10\n",
            "11\n",
            "12\n",
            "13\n",
            "14\n",
            "15\n",
            "16\n",
            "17\n",
            "18\n",
            "19\n",
            "20\n",
            "21\n",
            "22\n",
            "23\n",
            "24\n",
            "25\n",
            "26\n",
            "27\n",
            "28\n",
            "29\n",
            "normMean = [0.22161864, 0.22102807, 0.21600436]\n",
            "normStd = [0.27404886, 0.27178314, 0.2781938]\n",
            "transforms.Normalize(normMean =[0.22161864, 0.22102807, 0.21600436],normStd = [0.27404886, 0.27178314, 0.2781938])\n"
          ],
          "name": "stdout"
        }
      ]
    },
    {
      "cell_type": "code",
      "metadata": {
        "id": "X8-Y80fGZUtj",
        "colab_type": "code",
        "colab": {
          "base_uri": "https://localhost:8080/",
          "height": 34
        },
        "outputId": "afd83391-630b-4331-926f-9d3b31d35fed"
      },
      "source": [
        ""
      ],
      "execution_count": 25,
      "outputs": [
        {
          "output_type": "stream",
          "text": [
            "0\n"
          ],
          "name": "stdout"
        }
      ]
    },
    {
      "cell_type": "code",
      "metadata": {
        "colab_type": "code",
        "outputId": "f17103c9-e54a-4547-b9f8-8f8e0715f89e",
        "id": "lx5zi5TtcziU",
        "colab": {
          "base_uri": "https://localhost:8080/",
          "height": 51
        }
      },
      "source": [
        ""
      ],
      "execution_count": 23,
      "outputs": [
        {
          "output_type": "stream",
          "text": [
            "mv: cannot stat '/content/drive/My': No such file or directory\n",
            "mv: cannot stat 'Drive': No such file or directory\n"
          ],
          "name": "stdout"
        }
      ]
    }
  ]
}
